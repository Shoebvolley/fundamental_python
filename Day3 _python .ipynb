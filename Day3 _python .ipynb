{
 "cells": [
  {
   "cell_type": "code",
   "execution_count": 1,
   "id": "46908eec-4d17-4c20-9cc3-94c38eb8d3d6",
   "metadata": {},
   "outputs": [],
   "source": [
    "first_name = \"shoeb\"\n",
    "last_name =\"syed\"\n"
   ]
  },
  {
   "cell_type": "code",
   "execution_count": 3,
   "id": "0642fa77-cb85-4675-9803-a93fb0ab7c47",
   "metadata": {},
   "outputs": [
    {
     "name": "stdout",
     "output_type": "stream",
     "text": [
      "shoeb\tsyed\n"
     ]
    }
   ],
   "source": [
    "full_name =f\"{first_name}\\t{last_name}\"\n",
    "print(full_name)"
   ]
  },
  {
   "cell_type": "code",
   "execution_count": 4,
   "id": "b9b00d40-1282-427a-94a0-6383957d6c5f",
   "metadata": {},
   "outputs": [
    {
     "name": "stdout",
     "output_type": "stream",
     "text": [
      "Shoeb\tSyed\n"
     ]
    }
   ],
   "source": [
    "print(full_name.title())"
   ]
  },
  {
   "cell_type": "code",
   "execution_count": 6,
   "id": "be7b3357-61bb-4154-b447-7915e48352bd",
   "metadata": {},
   "outputs": [
    {
     "name": "stdout",
     "output_type": "stream",
     "text": [
      "i\n",
      "want\n",
      "to\n",
      "learn\n",
      "AWS\n",
      "cloud\n",
      "computing\n",
      "but\n",
      "they\n",
      "are\n",
      "not\n",
      "hiring\n",
      "freshers\n"
     ]
    }
   ],
   "source": [
    "print(\"i\\nwant\\nto\\nlearn\\nAWS\\ncloud\\ncomputing\\nbut\\nthey\\nare\\nnot\\nhiring\\nfreshers\")"
   ]
  },
  {
   "cell_type": "code",
   "execution_count": 7,
   "id": "4889b9d0-cd0f-4839-9d62-047f3ebcb550",
   "metadata": {},
   "outputs": [
    {
     "name": "stdout",
     "output_type": "stream",
     "text": [
      "i\n",
      "\twant\n",
      "\tto\n",
      "learn\n",
      "\tAWS\n",
      "\tcloud\n",
      "computing\n",
      "but\n",
      "they\n",
      "are\n",
      "not\n",
      "hiring\n",
      "freshers\n"
     ]
    }
   ],
   "source": [
    "print(\"i\\n\\twant\\n\\tto\\nlearn\\n\\tAWS\\n\\tcloud\\ncomputing\\nbut\\nthey\\nare\\nnot\\nhiring\\nfreshers\")"
   ]
  },
  {
   "cell_type": "code",
   "execution_count": 9,
   "id": "494186b4-1473-441c-a8e5-3422814bcfa7",
   "metadata": {},
   "outputs": [
    {
     "name": "stdout",
     "output_type": "stream",
     "text": [
      "   python\n"
     ]
    }
   ],
   "source": [
    "name =\"   python\"\n",
    "print(name)"
   ]
  },
  {
   "cell_type": "code",
   "execution_count": 10,
   "id": "2c4b6f60-e603-4525-b6ca-c19433cf76c4",
   "metadata": {},
   "outputs": [
    {
     "data": {
      "text/plain": [
       "'python'"
      ]
     },
     "execution_count": 10,
     "metadata": {},
     "output_type": "execute_result"
    }
   ],
   "source": [
    "name.lstrip()"
   ]
  },
  {
   "cell_type": "code",
   "execution_count": 11,
   "id": "0860b6c7-f335-4cda-a822-5783ff2dcf2b",
   "metadata": {},
   "outputs": [
    {
     "name": "stdout",
     "output_type": "stream",
     "text": [
      "        I want to give my best     \n"
     ]
    }
   ],
   "source": [
    "name2= \"        I want to give my best     \"\n",
    "print(name2)"
   ]
  },
  {
   "cell_type": "code",
   "execution_count": 12,
   "id": "989e9ddb-df84-437b-842b-2cfd4858d1db",
   "metadata": {},
   "outputs": [
    {
     "data": {
      "text/plain": [
       "<function str.strip(chars=None, /)>"
      ]
     },
     "execution_count": 12,
     "metadata": {},
     "output_type": "execute_result"
    }
   ],
   "source": [
    "name2.strip"
   ]
  },
  {
   "cell_type": "code",
   "execution_count": 13,
   "id": "b329497a-5460-458e-a7bb-2f09830b0c46",
   "metadata": {},
   "outputs": [
    {
     "data": {
      "text/plain": [
       "'I want to give my best'"
      ]
     },
     "execution_count": 13,
     "metadata": {},
     "output_type": "execute_result"
    }
   ],
   "source": [
    "name2.strip()"
   ]
  },
  {
   "cell_type": "code",
   "execution_count": null,
   "id": "715e48a2-1ba2-43f6-ace3-a6a489ed705b",
   "metadata": {},
   "outputs": [],
   "source": []
  }
 ],
 "metadata": {
  "kernelspec": {
   "display_name": "Python 3 (ipykernel)",
   "language": "python",
   "name": "python3"
  },
  "language_info": {
   "codemirror_mode": {
    "name": "ipython",
    "version": 3
   },
   "file_extension": ".py",
   "mimetype": "text/x-python",
   "name": "python",
   "nbconvert_exporter": "python",
   "pygments_lexer": "ipython3",
   "version": "3.12.3"
  }
 },
 "nbformat": 4,
 "nbformat_minor": 5
}
